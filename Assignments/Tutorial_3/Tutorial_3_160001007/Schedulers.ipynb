{
 "cells": [
  {
   "cell_type": "code",
   "execution_count": 1,
   "metadata": {},
   "outputs": [],
   "source": [
    "import pandas as pd"
   ]
  },
  {
   "cell_type": "code",
   "execution_count": 2,
   "metadata": {},
   "outputs": [],
   "source": [
    "class job:\n",
    "    def __init__(self,name, burst_time, arrival_time):\n",
    "        self.name = name\n",
    "        self.arrival_time = arrival_time\n",
    "        self.burst_time = burst_time\n",
    "        self.remaining_time = burst_time\n",
    "        self.finish_time = 1000000\n",
    "     \n",
    "    @property\n",
    "    def turnaround_time(self):\n",
    "        return self.finish_time - self.arrival_time\n",
    "    \n",
    "    @property\n",
    "    def waiting_time(self):\n",
    "        return self.turnaround_time - self.burst_time"
   ]
  },
  {
   "cell_type": "code",
   "execution_count": 3,
   "metadata": {},
   "outputs": [],
   "source": [
    "class Dispatcher:\n",
    "    def __init__(self,jobs):\n",
    "        self.jobs = jobs\n",
    "        \n",
    "    def getJob(self,now):\n",
    "        possible_jobs = []\n",
    "        for j in self.jobs:\n",
    "            if j.arrival_time == now:\n",
    "                possible_jobs.append(j)\n",
    "        return possible_jobs\n",
    "            \n",
    "    def hasNewJob(self,now):   \n",
    "        for j in self.jobs:\n",
    "            if j.arrival_time == now:\n",
    "                return True"
   ]
  },
  {
   "cell_type": "code",
   "execution_count": 4,
   "metadata": {},
   "outputs": [],
   "source": [
    "class fcfs_Scheduler:\n",
    "    def __init__(self):\n",
    "        self.jobs = []\n",
    "        \n",
    "    def addJob(self, j):\n",
    "        self.jobs.append(j)\n",
    "        self.jobs = sorted(self.jobs, key=lambda j: j.arrival_time)\n",
    "        \n",
    "    def getJob(self):\n",
    "       \n",
    "        j = self.jobs[0]\n",
    "        del self.jobs[0]\n",
    "        return j\n",
    "    \n",
    "    def jobsAvailble(self):\n",
    "        return len(self.jobs)"
   ]
  },
  {
   "cell_type": "code",
   "execution_count": 5,
   "metadata": {},
   "outputs": [],
   "source": [
    "class Processor:\n",
    "    def __init__(self, Dispatcher, Scheduler,):\n",
    "        self.scheduler = Scheduler\n",
    "        self.dispatcher = Dispatcher\n",
    "        self.now = 0\n",
    "    \n",
    "    def process(self,job):\n",
    "        print(job.name)\n",
    "        job.remaining_time -= 1\n",
    "        \n",
    "        \n",
    "    def run(self):\n",
    "        completed_jobs = []\n",
    "        while self.now < 1000:\n",
    "            \n",
    "            if self.dispatcher.hasNewJob(self.now):\n",
    "                for job in self.dispatcher.getJob(self.now):\n",
    "                    self.scheduler.addJob(job)\n",
    "                \n",
    "            if self.scheduler.jobsAvailble():\n",
    "                currentJob = self.scheduler.getJob()\n",
    "                self.process(currentJob)\n",
    "                \n",
    "                self.now +=1 \n",
    "                if currentJob.remaining_time > 0:\n",
    "                    self.scheduler.addJob(currentJob)\n",
    "                else:\n",
    "                    currentJob.finish_time = self.now\n",
    "                    completed_jobs.append(currentJob)\n",
    "             \n",
    "            else:\n",
    "                self.now +=1\n",
    "        \n",
    "        return completed_jobs"
   ]
  },
  {
   "cell_type": "code",
   "execution_count": 6,
   "metadata": {},
   "outputs": [],
   "source": [
    "def show_table(scheduler): \n",
    "    jobs = []\n",
    "    burst = [3,2,5,4]\n",
    "    for i in range(len(burst)):\n",
    "        j = job(\"job_\"+str(i),burst[i], i)\n",
    "        jobs.append(j)\n",
    "\n",
    "    D = Dispatcher(jobs)\n",
    "    S = scheduler()\n",
    "    P = Processor(D,S)\n",
    "    \n",
    "    P.run()\n",
    "    \n",
    "    attributes = [\"name\", \"arrival_time\",\"burst_time\",\n",
    "                  \"waiting_time\", \"turnaround_time\", \"finish_time\"]\n",
    "    data = {attr:[getattr(j, attr) for j in jobs] for attr in attributes }\n",
    "    df = pd.DataFrame(data)\n",
    "    print(df)"
   ]
  },
  {
   "cell_type": "code",
   "execution_count": 7,
   "metadata": {
    "scrolled": true
   },
   "outputs": [
    {
     "name": "stdout",
     "output_type": "stream",
     "text": [
      "job_0\n",
      "job_0\n",
      "job_0\n",
      "job_1\n",
      "job_1\n",
      "job_2\n",
      "job_2\n",
      "job_2\n",
      "job_2\n",
      "job_2\n",
      "job_3\n",
      "job_3\n",
      "job_3\n",
      "job_3\n",
      "    name  arrival_time  burst_time  waiting_time  turnaround_time  finish_time\n",
      "0  job_0             0           3             0                3            3\n",
      "1  job_1             1           2             2                4            5\n",
      "2  job_2             2           5             3                8           10\n",
      "3  job_3             3           4             7               11           14\n"
     ]
    }
   ],
   "source": [
    "show_table(fcfs_Scheduler)"
   ]
  },
  {
   "cell_type": "code",
   "execution_count": 9,
   "metadata": {},
   "outputs": [],
   "source": [
    "class sjf_Scheduler:\n",
    "    def __init__(self):\n",
    "        self.arrivedJobs = []\n",
    "        \n",
    "    def addJob(self, j):\n",
    "        self.arrivedJobs.append(j)\n",
    "        self.arrivedJobs = sorted(self.arrivedJobs, key=lambda j: j.burst_time)\n",
    "        \n",
    "    def getJob(self):\n",
    "        j = self.arrivedJobs[0]\n",
    "        del self.arrivedJobs[0]\n",
    "        return j\n",
    "    \n",
    "    def jobsAvailble(self):\n",
    "        return len(self.arrivedJobs)"
   ]
  },
  {
   "cell_type": "code",
   "execution_count": 10,
   "metadata": {},
   "outputs": [
    {
     "name": "stdout",
     "output_type": "stream",
     "text": [
      "job_0\n",
      "job_1\n",
      "job_1\n",
      "job_0\n",
      "job_0\n",
      "job_3\n",
      "job_3\n",
      "job_3\n",
      "job_3\n",
      "job_2\n",
      "job_2\n",
      "job_2\n",
      "job_2\n",
      "job_2\n",
      "    name  arrival_time  burst_time  waiting_time  turnaround_time  finish_time\n",
      "0  job_0             0           3             2                5            5\n",
      "1  job_1             1           2             0                2            3\n",
      "2  job_2             2           5             7               12           14\n",
      "3  job_3             3           4             2                6            9\n"
     ]
    }
   ],
   "source": [
    "show_table(sjf_Scheduler)"
   ]
  },
  {
   "cell_type": "code",
   "execution_count": 11,
   "metadata": {},
   "outputs": [],
   "source": [
    "class psjf_Scheduler:\n",
    "    def __init__(self):\n",
    "        self.jobs = []\n",
    "        \n",
    "    def addJob(self, j):\n",
    "        self.jobs.append(j)\n",
    "        self.jobs = sorted(self.jobs, key=lambda j: j.remaining_time)\n",
    "        \n",
    "    def getJob(self):\n",
    "        j = self.jobs[0]\n",
    "        del self.jobs[0]\n",
    "        return j\n",
    "    \n",
    "    def jobsAvailble(self):\n",
    "        return len(self.jobs)"
   ]
  },
  {
   "cell_type": "code",
   "execution_count": 12,
   "metadata": {},
   "outputs": [
    {
     "name": "stdout",
     "output_type": "stream",
     "text": [
      "job_0\n",
      "job_0\n",
      "job_0\n",
      "job_1\n",
      "job_1\n",
      "job_3\n",
      "job_3\n",
      "job_3\n",
      "job_3\n",
      "job_2\n",
      "job_2\n",
      "job_2\n",
      "job_2\n",
      "job_2\n",
      "    name  arrival_time  burst_time  waiting_time  turnaround_time  finish_time\n",
      "0  job_0             0           3             0                3            3\n",
      "1  job_1             1           2             2                4            5\n",
      "2  job_2             2           5             7               12           14\n",
      "3  job_3             3           4             2                6            9\n"
     ]
    }
   ],
   "source": [
    "show_table(psjf_Scheduler)"
   ]
  },
  {
   "cell_type": "code",
   "execution_count": null,
   "metadata": {},
   "outputs": [],
   "source": []
  }
 ],
 "metadata": {
  "kernelspec": {
   "display_name": "Python 3",
   "language": "python",
   "name": "python3"
  },
  "language_info": {
   "codemirror_mode": {
    "name": "ipython",
    "version": 3
   },
   "file_extension": ".py",
   "mimetype": "text/x-python",
   "name": "python",
   "nbconvert_exporter": "python",
   "pygments_lexer": "ipython3",
   "version": "3.6.3"
  }
 },
 "nbformat": 4,
 "nbformat_minor": 2
}
