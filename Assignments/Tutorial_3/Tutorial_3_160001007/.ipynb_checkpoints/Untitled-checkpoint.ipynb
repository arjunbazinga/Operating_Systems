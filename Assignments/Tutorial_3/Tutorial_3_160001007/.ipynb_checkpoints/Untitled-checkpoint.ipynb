{
 "cells": [
  {
   "cell_type": "code",
   "execution_count": 2,
   "metadata": {},
   "outputs": [
    {
     "name": "stdout",
     "output_type": "stream",
     "text": [
      "4\n"
     ]
    }
   ],
   "source": [
    "n = int(input())"
   ]
  },
  {
   "cell_type": "code",
   "execution_count": null,
   "metadata": {},
   "outputs": [],
   "source": [
    "jobs = {\"bt\":{}, \"at\":{}}\n",
    "for i in range(n):\n",
    "    jobs[\"bt\"][i] = int(input())\n",
    "    jobs[\"at\"][i] = i"
   ]
  },
  {
   "cell_type": "code",
   "execution_count": null,
   "metadata": {},
   "outputs": [],
   "source": [
    "jobs"
   ]
  },
  {
   "cell_type": "code",
   "execution_count": null,
   "metadata": {},
   "outputs": [],
   "source": [
    "def fcfs(jobs):\n",
    "    a = jobs[\"at\"]\n",
    "    schedule = [i[0] for i in sorted(a.items(), key=lambda x: x[1])]\n",
    "    return schedule"
   ]
  },
  {
   "cell_type": "code",
   "execution_count": null,
   "metadata": {},
   "outputs": [],
   "source": [
    "def get_"
   ]
  },
  {
   "cell_type": "code",
   "execution_count": null,
   "metadata": {},
   "outputs": [],
   "source": [
    "import pandas as pd"
   ]
  },
  {
   "cell_type": "code",
   "execution_count": null,
   "metadata": {},
   "outputs": [],
   "source": [
    "a= jobs[\"bt\"]"
   ]
  },
  {
   "cell_type": "code",
   "execution_count": 5,
   "metadata": {},
   "outputs": [],
   "source": [
    "class job:\n",
    "    def __init__(self,burst_time, arrival_time):\n",
    "        self.arrival_time = arrival_time\n",
    "        self.burst_time = burst_time\n",
    "        self.waiting_time = 0\n",
    "        self.remaining_time = burst_time\n",
    "        self.finish_time = -1"
   ]
  },
  {
   "cell_type": "code",
   "execution_count": 6,
   "metadata": {},
   "outputs": [],
   "source": [
    "class Dispatcher:\n",
    "    def __init__(self,jobs):\n",
    "        self.jobs = jobs\n",
    "        \n",
    "    def hasNewJob(self):\n",
    "        for j in self.jobs:\n",
    "            if j.arrival_time == now:\n",
    "                return j"
   ]
  },
  {
   "cell_type": "code",
   "execution_count": 7,
   "metadata": {},
   "outputs": [],
   "source": [
    "class Scheduler:\n",
    "    def __init__(self):\n",
    "        self.jobs = []\n",
    "        \n",
    "    def addJob(self, j):\n",
    "        self.jobs.append(j)\n",
    "        self.jobs = sorted(self.jobs, key=lambda j: j.arrival_time)\n",
    "        \n",
    "    \n",
    "    def getJob(self):\n",
    "        \n",
    "        "
   ]
  },
  {
   "cell_type": "code",
   "execution_count": 8,
   "metadata": {},
   "outputs": [],
   "source": [
    "class Processor:\n",
    "    def __init__(self,Scheduler,Dispatcher):\n",
    "        self.scheduler = Scheduler\n",
    "        self.dispatcher = Dispatcher\n",
    "        self.now = 0\n",
    "    \n",
    "    def process(self,job):\n",
    "        job.remaining_time -= 1\n",
    "        \n",
    "        \n",
    "    def run(self):\n",
    "        while True:\n",
    "            if Dispatcher.hasNewJob():\n",
    "                newJob = self.dispatcher.getJob()\n",
    "                self.scheduler.addJob(newJob)\n",
    "                \n",
    "            currentJob = self.scheduler.getJob()\n",
    "            self.process(currentJob)\n",
    "            \n",
    "            if currentJob.remaining_time > 0:\n",
    "                self.scheduler.addJob(currentJob)\n",
    "            else:\n",
    "                currentJob.finish_time = now\n",
    "                \n",
    "            now +=1\n",
    "            \n",
    "    "
   ]
  },
  {
   "cell_type": "code",
   "execution_count": 15,
   "metadata": {},
   "outputs": [],
   "source": [
    "D = Dispatcher([])"
   ]
  },
  {
   "cell_type": "code",
   "execution_count": 9,
   "metadata": {},
   "outputs": [],
   "source": [
    "a = [1,2,3,4]"
   ]
  },
  {
   "cell_type": "code",
   "execution_count": 10,
   "metadata": {},
   "outputs": [],
   "source": [
    "del a[0]"
   ]
  },
  {
   "cell_type": "code",
   "execution_count": 16,
   "metadata": {},
   "outputs": [],
   "source": [
    "a = [D, 1,2,3]"
   ]
  },
  {
   "cell_type": "code",
   "execution_count": 18,
   "metadata": {},
   "outputs": [
    {
     "data": {
      "text/plain": [
       "<__main__.Dispatcher at 0x7fb0c47b9240>"
      ]
     },
     "execution_count": 18,
     "metadata": {},
     "output_type": "execute_result"
    }
   ],
   "source": [
    "D"
   ]
  },
  {
   "cell_type": "code",
   "execution_count": 20,
   "metadata": {},
   "outputs": [],
   "source": [
    "del a[0]"
   ]
  },
  {
   "cell_type": "code",
   "execution_count": 21,
   "metadata": {},
   "outputs": [
    {
     "data": {
      "text/plain": [
       "<__main__.Dispatcher at 0x7fb0c47b9240>"
      ]
     },
     "execution_count": 21,
     "metadata": {},
     "output_type": "execute_result"
    }
   ],
   "source": []
  },
  {
   "cell_type": "code",
   "execution_count": null,
   "metadata": {},
   "outputs": [],
   "source": []
  }
 ],
 "metadata": {
  "kernelspec": {
   "display_name": "Python 3",
   "language": "python",
   "name": "python3"
  },
  "language_info": {
   "codemirror_mode": {
    "name": "ipython",
    "version": 3
   },
   "file_extension": ".py",
   "mimetype": "text/x-python",
   "name": "python",
   "nbconvert_exporter": "python",
   "pygments_lexer": "ipython3",
   "version": "3.6.3"
  }
 },
 "nbformat": 4,
 "nbformat_minor": 2
}
